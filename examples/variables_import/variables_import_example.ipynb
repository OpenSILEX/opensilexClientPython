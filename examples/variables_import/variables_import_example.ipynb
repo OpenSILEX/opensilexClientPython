{
 "cells": [
  {
   "cell_type": "code",
   "execution_count": null,
   "metadata": {},
   "outputs": [],
   "source": [
    "from opensilex_client.opensilex_client import OpensilexClient"
   ]
  },
  {
   "cell_type": "code",
   "execution_count": null,
   "metadata": {},
   "outputs": [],
   "source": [
    "opensilex_client = OpensilexClient(\n",
    "    host=\"<my_opensilex_instance>/rest\",\n",
    "    identifier=\"<my_identifier>\",\n",
    "    password=\"<my_password>\", \n",
    "    verbose=True # Optional. Used to get details on the requests realised\n",
    ")"
   ]
  },
  {
   "cell_type": "code",
   "execution_count": null,
   "metadata": {},
   "outputs": [],
   "source": [
    "opensilex_client.variable.sheet_create_if_not_exists(\n",
    "    path_or_url_to_sheet=\"./variables_import.csv\", \n",
    "    yaml_path=\"./variables_import_params.yaml\"\n",
    ")"
   ]
  }
 ],
 "metadata": {
  "kernelspec": {
   "display_name": "tests",
   "language": "python",
   "name": "python3"
  },
  "language_info": {
   "codemirror_mode": {
    "name": "ipython",
    "version": 3
   },
   "file_extension": ".py",
   "mimetype": "text/x-python",
   "name": "python",
   "nbconvert_exporter": "python",
   "pygments_lexer": "ipython3",
   "version": "3.9.13"
  },
  "orig_nbformat": 4
 },
 "nbformat": 4,
 "nbformat_minor": 2
}
