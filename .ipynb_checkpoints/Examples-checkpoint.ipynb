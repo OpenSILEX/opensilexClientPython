{
 "cells": [
  {
   "cell_type": "markdown",
   "id": "54c4abae-f524-40ef-9d06-06506bc2914d",
   "metadata": {},
   "source": [
    "# Example of use of functions.py script\n",
    "17/08/2021   \n",
    "Gabriel Besombes   \n",
    "#     "
   ]
  },
  {
   "cell_type": "markdown",
   "id": "49a076df-6cc5-467c-8efe-014e44f697b2",
   "metadata": {},
   "source": [
    "## Import functions.py\n",
    "---"
   ]
  },
  {
   "cell_type": "markdown",
   "id": "2487125c-3b35-4b2f-922d-8f6c6d6e6f24",
   "metadata": {},
   "source": [
    "`sys` is needed to add the path to the functions.py file to the path variable"
   ]
  },
  {
   "cell_type": "code",
   "execution_count": 6,
   "id": "f564b2dc-2a18-4dbd-98b4-9a655ef74757",
   "metadata": {},
   "outputs": [],
   "source": [
    "import sys"
   ]
  },
  {
   "cell_type": "markdown",
   "id": "1a128363-af83-44d9-a891-ca5fc26146aa",
   "metadata": {},
   "source": [
    "Insert the new path at position 1. Position 0 is the script path (or '' in REPL)    \n",
    "Change \"C:\\\\Users\\\\besombes\\\\Documents\\\\gitlab\\\\opensilex-ws-python-client\" to the corresponding path to the cloned repository on your computer."
   ]
  },
  {
   "cell_type": "code",
   "execution_count": 4,
   "id": "5f4ad589-1d4c-46c9-a9ff-8b6f326d549b",
   "metadata": {},
   "outputs": [],
   "source": [
    "sys.path.insert(1, \"C:\\\\Users\\\\besombes\\\\Documents\\\\gitlab\\\\opensilex-ws-python-client\")"
   ]
  },
  {
   "cell_type": "markdown",
   "id": "d6fdcf45-8157-4232-b74c-9d8afc5735f2",
   "metadata": {},
   "source": [
    "The file can now be imported"
   ]
  },
  {
   "cell_type": "code",
   "execution_count": 5,
   "id": "2e237ba2-42bf-40e3-9162-d3192a9dfdcf",
   "metadata": {},
   "outputs": [],
   "source": [
    "import functions"
   ]
  },
  {
   "cell_type": "markdown",
   "id": "01823bf7-7c19-4abf-9d2b-e4710dc0191f",
   "metadata": {},
   "source": [
    "___\n",
    "#   "
   ]
  }
 ],
 "metadata": {
  "kernelspec": {
   "display_name": "Python 3",
   "language": "python",
   "name": "python3"
  },
  "language_info": {
   "codemirror_mode": {
    "name": "ipython",
    "version": 3
   },
   "file_extension": ".py",
   "mimetype": "text/x-python",
   "name": "python",
   "nbconvert_exporter": "python",
   "pygments_lexer": "ipython3",
   "version": "3.8.10"
  }
 },
 "nbformat": 4,
 "nbformat_minor": 5
}
