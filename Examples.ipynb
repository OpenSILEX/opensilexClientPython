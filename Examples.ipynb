{
 "cells": [
  {
   "cell_type": "markdown",
   "source": [
    "# Example of use of functions.py script\n",
    "17/08/2021   \n",
    "Gabriel Besombes   \n",
    "#     "
   ],
   "metadata": {}
  },
  {
   "cell_type": "markdown",
   "source": [
    "## Import needed packages\r\n",
    "---"
   ],
   "metadata": {}
  },
  {
   "cell_type": "markdown",
   "source": [
    "`sys` is needed to add the path to the functions.py file to the path variable"
   ],
   "metadata": {}
  },
  {
   "cell_type": "code",
   "execution_count": 1,
   "source": [
    "import sys\r\n",
    "import opensilexClientToolsPython\r\n",
    "import json"
   ],
   "outputs": [],
   "metadata": {}
  },
  {
   "cell_type": "markdown",
   "source": [
    "Insert the new path at position 1. Position 0 is the script path (or '' in REPL)    \n",
    "Change \"C:\\\\Users\\\\besombes\\\\Documents\\\\gitlab\\\\opensilex-ws-python-client\" to the corresponding path to the cloned repository on your computer."
   ],
   "metadata": {}
  },
  {
   "cell_type": "code",
   "execution_count": 2,
   "source": [
    "sys.path.insert(1, \"C:\\\\Users\\\\besombes\\\\Documents\\\\gitlab\\\\opensilex-ws-python-client\")"
   ],
   "outputs": [],
   "metadata": {}
  },
  {
   "cell_type": "markdown",
   "source": [
    "The file can now be imported"
   ],
   "metadata": {}
  },
  {
   "cell_type": "code",
   "execution_count": 3,
   "source": [
    "import functions"
   ],
   "outputs": [],
   "metadata": {}
  },
  {
   "cell_type": "markdown",
   "source": [
    "___\n",
    "#   "
   ],
   "metadata": {}
  },
  {
   "cell_type": "markdown",
   "source": [
    "## Connect to opensilex\r\n",
    "___"
   ],
   "metadata": {}
  },
  {
   "cell_type": "markdown",
   "source": [
    "__WARNING__ : You need to have a JSON file with your credentials"
   ],
   "metadata": {}
  },
  {
   "cell_type": "code",
   "execution_count": 4,
   "source": [
    "with open('credentials.json') as f:\r\n",
    "    credentials_dict = json.load(f)\r\n"
   ],
   "outputs": [],
   "metadata": {}
  },
  {
   "cell_type": "code",
   "execution_count": 5,
   "source": [
    "pythonClient = opensilexClientToolsPython.ApiClient()\r\n",
    "pythonClient.connect_to_opensilex_ws(**credentials_dict)"
   ],
   "outputs": [],
   "metadata": {}
  },
  {
   "cell_type": "markdown",
   "source": [
    "___\r\n",
    "#    "
   ],
   "metadata": {}
  },
  {
   "cell_type": "markdown",
   "source": [
    "## Create Variables from csv\r\n",
    "___"
   ],
   "metadata": {}
  },
  {
   "cell_type": "markdown",
   "source": [
    "To migrate variables from a csv a schema is needed. Here the default schema is used :"
   ],
   "metadata": {}
  },
  {
   "cell_type": "code",
   "execution_count": 6,
   "source": [
    "variables_schema = {\r\n",
    "        'trait':'trait.uri',\r\n",
    "        'trait_name':'trait.label',\r\n",
    "        'entity':{\r\n",
    "            'name':'entity.label',\r\n",
    "            'uri':'entity.uri',\r\n",
    "            'description':'entity.comment'\r\n",
    "        },\r\n",
    "        'characteristic':{\r\n",
    "            'name':'characteristic.label',\r\n",
    "            'uri':'characteristic.uri',\r\n",
    "            'description':'characteristic.comment'\r\n",
    "        },\r\n",
    "        'method':{\r\n",
    "            'name':'method.label',\r\n",
    "            'uri':'method.uri',\r\n",
    "            'description':'method.comment'\r\n",
    "        },\r\n",
    "        'unit':{\r\n",
    "            'name':'unit.label',\r\n",
    "            'uri':'unit.uri',\r\n",
    "            'description':'unit.comment'\r\n",
    "        },\r\n",
    "        'uri':'variable.uri',\r\n",
    "        'name':'variable.label',\r\n",
    "        'description':'variable.description',\r\n",
    "        'datatype':'variable.datatype',\r\n",
    "        'alternative_name':'variable.alternative_name',\r\n",
    "        'time_interval':'variable.timeinterval',\r\n",
    "        'sampling_interval':'variable.sampleinterval'\r\n",
    "    }"
   ],
   "outputs": [],
   "metadata": {}
  },
  {
   "cell_type": "markdown",
   "source": [
    "Trying to import example variables from `.\\csv_example\\extended_variables_testing.csv`   \r\n",
    "__NOTE__ : This will most likely fail as these variables probably already exist"
   ],
   "metadata": {}
  },
  {
   "cell_type": "code",
   "execution_count": 7,
   "source": [
    "functions.migrate_variables_from_csv(\r\n",
    "    pythonClient=pythonClient, \r\n",
    "    csv_path=\".\\\\csv_example\\\\extended_variables_testing.csv\",\r\n",
    "    variables_schema=variables_schema\r\n",
    ")"
   ],
   "outputs": [
    {
     "output_type": "stream",
     "name": "stderr",
     "text": [
      "2021-08-17 14:12:26,046 INFO         [functions.py:494] Update mode variable is set to False\n",
      "\n",
      "\n"
     ]
    },
    {
     "output_type": "stream",
     "name": "stdout",
     "text": [
      "  entity.uri;entity.label;entity.comment;characteristic.uri;characteristic.label;characteristic.comment;trait.uri;trait.label;method.uri;method.label;method.comment;unit.uri;unit.label;unit.comment;variable.uri;variable.label;variable.alternative_name;variable.datatype;variable.timeinterval;variable.sampleinterval;variable.description\n",
      "0  test:set/test_entity_uri_G_1;test_entity_name_...                                                                                                                                                                                                                                                                                            \n",
      "1  test:set/test_entity_uri_G_2;test_entity_name_...                                                                                                                                                                                                                                                                                            \n",
      "2  test:set/test_entity_uri_G_3;test_entity_name_...                                                                                                                                                                                                                                                                                            \n",
      "3  test:set/test_entity_uri_G_4;test_entity_name_...                                                                                                                                                                                                                                                                                            \n"
     ]
    },
    {
     "output_type": "stream",
     "name": "stderr",
     "text": [
      "C:\\Users\\besombes\\anaconda3\\envs\\PyR\\lib\\site-packages\\pandas\\core\\frame.py:5034: SettingWithCopyWarning: \n",
      "A value is trying to be set on a copy of a slice from a DataFrame\n",
      "\n",
      "See the caveats in the documentation: https://pandas.pydata.org/pandas-docs/stable/user_guide/indexing.html#returning-a-view-versus-a-copy\n",
      "  return super().rename(\n",
      "2021-08-17 14:12:27,419 INFO         [functions.py:706] Object {'name': 'test_entity_name_G_1', 'uri': 'test:set/test_entity_uri_G_1', 'description': 'test_entity_comment_G_1'} at row 0 wasn't created as an object with that name already exists.\n",
      "That object was skipped and will appear in the \"already_existed.csv\" file.\n",
      "The object used instead is {'name': 'test_entity_name_G_1', 'uri': 'test:set/test_entity_uri_G_1', 'description': 'test_entity_comment_G_1'}\n",
      "\n",
      "2021-08-17 14:12:28,122 INFO         [functions.py:706] Object {'name': 'test_entity_name_G_2', 'uri': 'test:set/test_entity_uri_G_2', 'description': 'test_entity_comment_G_2'} at row 1 wasn't created as an object with that name already exists.\n",
      "That object was skipped and will appear in the \"already_existed.csv\" file.\n",
      "The object used instead is {'name': 'test_entity_name_G_2', 'uri': 'test:set/test_entity_uri_G_2', 'description': 'test_entity_comment_G_2'}\n",
      "\n",
      "2021-08-17 14:12:28,840 INFO         [functions.py:706] Object {'name': 'test_entity_name_G_3', 'uri': 'test:set/test_entity_uri_G_3', 'description': 'test_entity_comment_G_3'} at row 2 wasn't created as an object with that name already exists.\n",
      "That object was skipped and will appear in the \"already_existed.csv\" file.\n",
      "The object used instead is {'name': 'test_entity_name_G_3', 'uri': 'test:set/test_entity_uri_G_3', 'description': 'test_entity_comment_G_3'}\n",
      "\n",
      "2021-08-17 14:12:29,564 INFO         [functions.py:706] Object {'name': 'test_entity_name_G_4', 'uri': 'test:set/test_entity_uri_G_4', 'description': 'test_entity_comment_G_4'} at row 3 wasn't created as an object with that name already exists.\n",
      "That object was skipped and will appear in the \"already_existed.csv\" file.\n",
      "The object used instead is {'name': 'test_entity_name_G_4', 'uri': 'test:set/test_entity_uri_G_4', 'description': 'test_entity_comment_G_4'}\n",
      "\n",
      "2021-08-17 14:12:30,312 INFO         [functions.py:706] Object {'name': 'test_characteristic_name_G_1', 'uri': 'test:set/test_characteristic_uri_G_1', 'description': 'test_characteristic_comment_G_1'} at row 0 wasn't created as an object with that name already exists.\n",
      "That object was skipped and will appear in the \"already_existed.csv\" file.\n",
      "The object used instead is {'name': 'test_characteristic_name_G_1', 'uri': 'test:set/test_characteristic_uri_G_1', 'description': 'test_characteristic_comment_G_1'}\n",
      "\n",
      "2021-08-17 14:12:31,018 INFO         [functions.py:706] Object {'name': 'test_characteristic_name_G_2', 'uri': 'test:set/test_characteristic_uri_G_2', 'description': 'test_characteristic_comment_G_2'} at row 1 wasn't created as an object with that name already exists.\n",
      "That object was skipped and will appear in the \"already_existed.csv\" file.\n",
      "The object used instead is {'name': 'test_characteristic_name_G_2', 'uri': 'test:set/test_characteristic_uri_G_2', 'description': 'test_characteristic_comment_G_2'}\n",
      "\n",
      "2021-08-17 14:12:31,728 INFO         [functions.py:706] Object {'name': 'test_characteristic_name_G_3', 'uri': 'test:set/test_characteristic_uri_G_3', 'description': 'test_characteristic_comment_G_3'} at row 2 wasn't created as an object with that name already exists.\n",
      "That object was skipped and will appear in the \"already_existed.csv\" file.\n",
      "The object used instead is {'name': 'test_characteristic_name_G_3', 'uri': 'test:set/test_characteristic_uri_G_3', 'description': 'test_characteristic_comment_G_3'}\n",
      "\n",
      "2021-08-17 14:12:32,458 INFO         [functions.py:706] Object {'name': 'test_characteristic_name_G_4', 'uri': 'test:set/test_characteristic_uri_G_4', 'description': 'test_characteristic_comment_G_4'} at row 3 wasn't created as an object with that name already exists.\n",
      "That object was skipped and will appear in the \"already_existed.csv\" file.\n",
      "The object used instead is {'name': 'test_characteristic_name_G_4', 'uri': 'test:set/test_characteristic_uri_G_4', 'description': 'test_characteristic_comment_G_4'}\n",
      "\n",
      "2021-08-17 14:12:33,198 INFO         [functions.py:706] Object {'name': 'test_method_name_G_1', 'uri': 'test:set/test_method_uri_G_1', 'description': 'test_method_comment_G_1'} at row 0 wasn't created as an object with that name already exists.\n",
      "That object was skipped and will appear in the \"already_existed.csv\" file.\n",
      "The object used instead is {'name': 'test_method_name_G_1', 'uri': 'test:set/test_method_uri_G_1', 'description': 'test_method_comment_G_1'}\n",
      "\n",
      "2021-08-17 14:12:33,872 INFO         [functions.py:706] Object {'name': 'test_method_name_G_2', 'uri': 'test:set/test_method_uri_G_2', 'description': 'test_method_comment_G_2'} at row 1 wasn't created as an object with that name already exists.\n",
      "That object was skipped and will appear in the \"already_existed.csv\" file.\n",
      "The object used instead is {'name': 'test_method_name_G_2', 'uri': 'test:set/test_method_uri_G_2', 'description': 'test_method_comment_G_2'}\n",
      "\n",
      "2021-08-17 14:12:34,567 INFO         [functions.py:706] Object {'name': 'test_method_name_G_3', 'uri': 'test:set/test_method_uri_G_3', 'description': 'test_method_comment_G_3'} at row 2 wasn't created as an object with that name already exists.\n",
      "That object was skipped and will appear in the \"already_existed.csv\" file.\n",
      "The object used instead is {'name': 'test_method_name_G_3', 'uri': 'test:set/test_method_uri_G_3', 'description': 'test_method_comment_G_3'}\n",
      "\n",
      "2021-08-17 14:12:35,263 INFO         [functions.py:706] Object {'name': 'test_method_name_G_4', 'uri': 'test:set/test_method_uri_G_4', 'description': 'test_method_comment_G_4'} at row 3 wasn't created as an object with that name already exists.\n",
      "That object was skipped and will appear in the \"already_existed.csv\" file.\n",
      "The object used instead is {'name': 'test_method_name_G_4', 'uri': 'test:set/test_method_uri_G_4', 'description': 'test_method_comment_G_4'}\n",
      "\n",
      "2021-08-17 14:12:36,047 INFO         [functions.py:706] Object {'name': 'test_unit_name_G_1', 'uri': 'test:set/test_unit_uri_G_1', 'description': 'test_unit_comment_G_1'} at row 0 wasn't created as an object with that name already exists.\n",
      "That object was skipped and will appear in the \"already_existed.csv\" file.\n",
      "The object used instead is {'name': 'test_unit_name_G_1', 'uri': 'test:set/test_unit_uri_G_1', 'description': 'test_unit_comment_G_1'}\n",
      "\n",
      "2021-08-17 14:12:36,838 INFO         [functions.py:706] Object {'name': 'test_unit_name_G_2', 'uri': 'test:set/test_unit_uri_G_2', 'description': 'test_unit_comment_G_2'} at row 1 wasn't created as an object with that name already exists.\n",
      "That object was skipped and will appear in the \"already_existed.csv\" file.\n",
      "The object used instead is {'name': 'test_unit_name_G_2', 'uri': 'test:set/test_unit_uri_G_2', 'description': 'test_unit_comment_G_2'}\n",
      "\n",
      "2021-08-17 14:12:37,602 INFO         [functions.py:706] Object {'name': 'test_unit_name_G_3', 'uri': 'test:set/test_unit_uri_G_3', 'description': 'test_unit_comment_G_3'} at row 2 wasn't created as an object with that name already exists.\n",
      "That object was skipped and will appear in the \"already_existed.csv\" file.\n",
      "The object used instead is {'name': 'test_unit_name_G_3', 'uri': 'test:set/test_unit_uri_G_3', 'description': 'test_unit_comment_G_3'}\n",
      "\n",
      "2021-08-17 14:12:38,453 INFO         [functions.py:706] Object {'name': 'test_unit_name_G_4', 'uri': 'test:set/test_unit_uri_G_4', 'description': 'test_unit_comment_G_4'} at row 3 wasn't created as an object with that name already exists.\n",
      "That object was skipped and will appear in the \"already_existed.csv\" file.\n",
      "The object used instead is {'name': 'test_unit_name_G_4', 'uri': 'test:set/test_unit_uri_G_4', 'description': 'test_unit_comment_G_4'}\n",
      "\n",
      "2021-08-17 14:12:39,455 INFO         [functions.py:706] Object {'trait': 'test:set/test_trait_uri_G_1', 'trait_name': 'test_trait_name_G_1', 'entity': 'test:set/test_entity_uri_G_1', 'characteristic': 'test:set/test_characteristic_uri_G_1', 'method': 'test:set/test_method_uri_G_1', 'unit': 'test:set/test_unit_uri_G_1', 'uri': 'test:set/test_variable_uri_G_1', 'name': 'test_variable_name_G_1', 'description': 'test_variable_comment_G_1', 'datatype': 'http://www.w3.org/2001/XMLSchema#decimal', 'alternative_name': 'test_variable_alt_name_G_1', 'time_interval': 'Millisecond', 'sampling_interval': 'Millimeter'} at row 0 wasn't created as an object with that name already exists.\n",
      "That object was skipped and will appear in the \"already_existed.csv\" file.\n",
      "The object used instead is {'trait': 'test:set/test_trait_uri_G_1', 'trait_name': 'test_trait_name_G_1', 'entity': {'name': 'test_entity_name_G_1', 'uri': 'test:set/test_entity_uri_G_1'}, 'characteristic': {'name': 'test_characteristic_name_G_1',\n",
      " 'uri': 'test:set/test_characteristic_uri_G_1'}, 'method': {'name': 'test_method_name_G_1', 'uri': 'test:set/test_method_uri_G_1'}, 'unit': {'name': 'test_unit_name_G_1', 'uri': 'test:set/test_unit_uri_G_1'}, 'uri': 'test:set/test_variable_uri_G_1', 'name': 'test_variable_name_G_1', 'description': 'test_variable_comment_G_1', 'datatype': 'http://www.w3.org/2001/XMLSchema#decimal', 'alternative_name': 'test_variable_alt_name_G_1', 'time_interval': 'Millisecond', 'sampling_interval': 'Millimeter'}\n",
      "\n",
      "2021-08-17 14:12:40,211 INFO         [functions.py:706] Object {'trait': 'test:set/test_trait_uri_G_2', 'trait_name': 'test_trait_name_G_2', 'entity': 'test:set/test_entity_uri_G_2', 'characteristic': 'test:set/test_characteristic_uri_G_2', 'method': 'test:set/test_method_uri_G_2', 'unit': 'test:set/test_unit_uri_G_2', 'uri': 'test:set/test_variable_uri_G_2', 'name': 'test_variable_name_G_2', 'description': 'test_variable_comment_G_2', 'datatype': 'http://www.w3.org/2001/XMLSchema#integer', 'alternative_name': 'test_variable_alt_name_G_2', 'time_interval': 'Second', 'sampling_interval': 'Centimeter'} at row 1 wasn't created as an object with that name already exists.\n",
      "That object was skipped and will appear in the \"already_existed.csv\" file.\n",
      "The object used instead is {'trait': 'test:set/test_trait_uri_G_2', 'trait_name': 'test_trait_name_G_2', 'entity': {'name': 'test_entity_name_G_2', 'uri': 'test:set/test_entity_uri_G_2'}, 'characteristic': {'name': 'test_characteristic_name_G_2',\n",
      " 'uri': 'test:set/test_characteristic_uri_G_2'}, 'method': {'name': 'test_method_name_G_2', 'uri': 'test:set/test_method_uri_G_2'}, 'unit': {'name': 'test_unit_name_G_2', 'uri': 'test:set/test_unit_uri_G_2'}, 'uri': 'test:set/test_variable_uri_G_2', 'name': 'test_variable_name_G_2', 'description': 'test_variable_comment_G_2', 'datatype': 'http://www.w3.org/2001/XMLSchema#integer', 'alternative_name': 'test_variable_alt_name_G_2', 'time_interval': 'Second', 'sampling_interval': 'Centimeter'}\n",
      "\n",
      "2021-08-17 14:12:40,916 INFO         [functions.py:706] Object {'trait': 'test:set/test_trait_uri_G_3', 'trait_name': 'test_trait_name_G_3', 'entity': 'test:set/test_entity_uri_G_3', 'characteristic': 'test:set/test_characteristic_uri_G_3', 'method': 'test:set/test_method_uri_G_3', 'unit': 'test:set/test_unit_uri_G_3', 'uri': 'test:set/test_variable_uri_G_3', 'name': 'test_variable_name_G_3', 'description': 'test_variable_comment_G_3', 'datatype': 'http://www.w3.org/2001/XMLSchema#date', 'alternative_name': 'test_variable_alt_name_G_3', 'time_interval': 'Minutes', 'sampling_interval': 'Meter'} at row 2 wasn't created as an object with that name already exists.\n",
      "That object was skipped and will appear in the \"already_existed.csv\" file.\n",
      "The object used instead is {'trait': 'test:set/test_trait_uri_G_3', 'trait_name': 'test_trait_name_G_3', 'entity': {'name': 'test_entity_name_G_3', 'uri': 'test:set/test_entity_uri_G_3'}, 'characteristic': {'name': 'test_characteristic_name_G_3',\n",
      " 'uri': 'test:set/test_characteristic_uri_G_3'}, 'method': {'name': 'test_method_name_G_3', 'uri': 'test:set/test_method_uri_G_3'}, 'unit': {'name': 'test_unit_name_G_3', 'uri': 'test:set/test_unit_uri_G_3'}, 'uri': 'test:set/test_variable_uri_G_3', 'name': 'test_variable_name_G_3', 'description': 'test_variable_comment_G_3', 'datatype': 'http://www.w3.org/2001/XMLSchema#date', 'alternative_name': 'test_variable_alt_name_G_3', 'time_interval': 'Minutes', 'sampling_interval': 'Meter'}\n",
      "\n",
      "2021-08-17 14:12:41,628 INFO         [functions.py:706] Object {'trait': 'test:set/test_trait_uri_G_4', 'trait_name': 'test_trait_name_G_4', 'entity': 'test:set/test_entity_uri_G_4', 'characteristic': 'test:set/test_characteristic_uri_G_4', 'method': 'test:set/test_method_uri_G_4', 'unit': 'test:set/test_unit_uri_G_4', 'uri': 'test:set/test_variable_uri_G_4', 'name': 'test_variable_name_G_4', 'description': 'test_variable_comment_G_4', 'datatype': 'http://www.w3.org/2001/XMLSchema#string', 'alternative_name': 'test_variable_alt_name_G_4', 'time_interval': 'Hour', 'sampling_interval': 'Kilometer'} at row 3 wasn't created as an object with that name already exists.\n",
      "That object was skipped and will appear in the \"already_existed.csv\" file.\n",
      "The object used instead is {'trait': 'test:set/test_trait_uri_G_4', 'trait_name': 'test_trait_name_G_4', 'entity': {'name': 'test_entity_name_G_4', 'uri': 'test:set/test_entity_uri_G_4'}, 'characteristic': {'name': 'test_characteristic_name_G_4',\n",
      " 'uri': 'test:set/test_characteristic_uri_G_4'}, 'method': {'name': 'test_method_name_G_4', 'uri': 'test:set/test_method_uri_G_4'}, 'unit': {'name': 'test_unit_name_G_4', 'uri': 'test:set/test_unit_uri_G_4'}, 'uri': 'test:set/test_variable_uri_G_4', 'name': 'test_variable_name_G_4', 'description': 'test_variable_comment_G_4', 'datatype': 'http://www.w3.org/2001/XMLSchema#string', 'alternative_name': 'test_variable_alt_name_G_4', 'time_interval': 'Hour', 'sampling_interval': 'Kilometer'}\n",
      "\n"
     ]
    }
   ],
   "metadata": {}
  },
  {
   "cell_type": "markdown",
   "source": [
    "If you get an error the most likely cause is the format of your csv. There are two ways to solve this :\r\n",
    " * If you know how to use pandas you should try to open your csv with pandas and pass the created DataFrame to functions.migrate_variables().\r\n",
    " * If you don't know how to use pandas try to save your csv with comas \",\" as separators"
   ],
   "metadata": {}
  },
  {
   "cell_type": "markdown",
   "source": [
    "If you want more details on the outputs you can check the debug.log file."
   ],
   "metadata": {}
  },
  {
   "cell_type": "markdown",
   "source": [
    "___\r\n",
    "#    "
   ],
   "metadata": {}
  }
 ],
 "metadata": {
  "kernelspec": {
   "name": "python3",
   "display_name": "Python 3.8.10 64-bit ('PyR': conda)"
  },
  "language_info": {
   "codemirror_mode": {
    "name": "ipython",
    "version": 3
   },
   "file_extension": ".py",
   "mimetype": "text/x-python",
   "name": "python",
   "nbconvert_exporter": "python",
   "pygments_lexer": "ipython3",
   "version": "3.8.10"
  },
  "interpreter": {
   "hash": "07931709d8573b40e47a060690a1c5e69ae9c632320d3382dc31ad356df315ba"
  }
 },
 "nbformat": 4,
 "nbformat_minor": 5
}