{
 "cells": [
  {
   "cell_type": "markdown",
   "source": [
    "# Example of use of functions.py script\n",
    "17/08/2021   \n",
    "Gabriel Besombes   \n",
    "#     "
   ],
   "metadata": {}
  },
  {
   "cell_type": "markdown",
   "source": [
    "## Import needed packages\r\n",
    "---"
   ],
   "metadata": {}
  },
  {
   "cell_type": "markdown",
   "source": [
    "`sys` is needed to add the path to the functions.py file to the path variable"
   ],
   "metadata": {}
  },
  {
   "cell_type": "code",
   "execution_count": 4,
   "source": [
    "import sys\r\n",
    "import opensilexClientToolsPython"
   ],
   "outputs": [],
   "metadata": {}
  },
  {
   "cell_type": "markdown",
   "source": [
    "Insert the new path at position 1. Position 0 is the script path (or '' in REPL)    \n",
    "Change \"C:\\\\Users\\\\besombes\\\\Documents\\\\gitlab\\\\opensilex-ws-python-client\" to the corresponding path to the cloned repository on your computer."
   ],
   "metadata": {}
  },
  {
   "cell_type": "code",
   "execution_count": 2,
   "source": [
    "sys.path.insert(1, \"C:\\\\Users\\\\besombes\\\\Documents\\\\gitlab\\\\opensilex-ws-python-client\")"
   ],
   "outputs": [],
   "metadata": {}
  },
  {
   "cell_type": "markdown",
   "source": [
    "The file can now be imported"
   ],
   "metadata": {}
  },
  {
   "cell_type": "code",
   "execution_count": 3,
   "source": [
    "import functions"
   ],
   "outputs": [],
   "metadata": {}
  },
  {
   "cell_type": "markdown",
   "source": [
    "___\n",
    "#   "
   ],
   "metadata": {}
  },
  {
   "cell_type": "markdown",
   "source": [
    "## Connect to opensilex\r\n",
    "___"
   ],
   "metadata": {}
  },
  {
   "cell_type": "markdown",
   "source": [
    "__WARNING__ : Don't forget to change the host adress as well as use your own identifier and password"
   ],
   "metadata": {}
  },
  {
   "cell_type": "markdown",
   "source": [],
   "metadata": {}
  },
  {
   "cell_type": "markdown",
   "source": [
    "## Create Variables from csv\r\n",
    "___"
   ],
   "metadata": {}
  },
  {
   "cell_type": "markdown",
   "source": [
    "Trying to import example variables from `.\\csv_example\\extended_variables_testing.csv`   \r\n",
    "__NOTE__ : This will most likely fail as these variables probably already exist"
   ],
   "metadata": {}
  },
  {
   "cell_type": "code",
   "execution_count": null,
   "source": [
    "functions.migrate_variables_from_csv()"
   ],
   "outputs": [],
   "metadata": {}
  }
 ],
 "metadata": {
  "kernelspec": {
   "name": "python3",
   "display_name": "Python 3.8.10 64-bit ('PyR': conda)"
  },
  "language_info": {
   "codemirror_mode": {
    "name": "ipython",
    "version": 3
   },
   "file_extension": ".py",
   "mimetype": "text/x-python",
   "name": "python",
   "nbconvert_exporter": "python",
   "pygments_lexer": "ipython3",
   "version": "3.8.10"
  },
  "interpreter": {
   "hash": "07931709d8573b40e47a060690a1c5e69ae9c632320d3382dc31ad356df315ba"
  }
 },
 "nbformat": 4,
 "nbformat_minor": 5
}